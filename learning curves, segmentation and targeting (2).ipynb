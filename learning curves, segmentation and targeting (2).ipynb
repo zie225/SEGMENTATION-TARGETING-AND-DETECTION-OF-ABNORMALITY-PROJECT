{
 "cells": [
  {
   "cell_type": "code",
   "execution_count": 3,
   "metadata": {},
   "outputs": [],
   "source": [
    "import pandas as pd"
   ]
  },
  {
   "cell_type": "code",
   "execution_count": 154,
   "metadata": {},
   "outputs": [],
   "source": [
    "import datetime as dt"
   ]
  },
  {
   "cell_type": "code",
   "execution_count": 4,
   "metadata": {},
   "outputs": [],
   "source": [
    "import random"
   ]
  },
  {
   "cell_type": "code",
   "execution_count": 5,
   "metadata": {},
   "outputs": [],
   "source": [
    "import numpy as np"
   ]
  },
  {
   "cell_type": "code",
   "execution_count": 6,
   "metadata": {},
   "outputs": [],
   "source": [
    "import seaborn as sns"
   ]
  },
  {
   "cell_type": "code",
   "execution_count": 7,
   "metadata": {},
   "outputs": [],
   "source": [
    "import matplotlib.pyplot as plt"
   ]
  },
  {
   "cell_type": "code",
   "execution_count": 8,
   "metadata": {},
   "outputs": [],
   "source": [
    "import matplotlib as mpl"
   ]
  },
  {
   "cell_type": "code",
   "execution_count": 196,
   "metadata": {},
   "outputs": [],
   "source": [
    "df=pd.read_csv(\"file:///C:/Users/P4/Desktop/datacat.csv\")"
   ]
  },
  {
   "cell_type": "code",
   "execution_count": 197,
   "metadata": {},
   "outputs": [
    {
     "data": {
      "text/html": [
       "<div>\n",
       "<style scoped>\n",
       "    .dataframe tbody tr th:only-of-type {\n",
       "        vertical-align: middle;\n",
       "    }\n",
       "\n",
       "    .dataframe tbody tr th {\n",
       "        vertical-align: top;\n",
       "    }\n",
       "\n",
       "    .dataframe thead th {\n",
       "        text-align: right;\n",
       "    }\n",
       "</style>\n",
       "<table border=\"1\" class=\"dataframe\">\n",
       "  <thead>\n",
       "    <tr style=\"text-align: right;\">\n",
       "      <th></th>\n",
       "      <th>ad_id</th>\n",
       "      <th>xyzCampId</th>\n",
       "      <th>fbCampId</th>\n",
       "      <th>interest</th>\n",
       "      <th>impr</th>\n",
       "      <th>Clicks</th>\n",
       "      <th>Spent</th>\n",
       "      <th>conv</th>\n",
       "      <th>appConv</th>\n",
       "      <th>totConv</th>\n",
       "      <th>...</th>\n",
       "      <th>totConVal</th>\n",
       "      <th>CPM</th>\n",
       "      <th>costPerCon</th>\n",
       "      <th>ROAS</th>\n",
       "      <th>gender_F</th>\n",
       "      <th>gender_M</th>\n",
       "      <th>age_30-34</th>\n",
       "      <th>age_35-39</th>\n",
       "      <th>age_40-44</th>\n",
       "      <th>age_45-49</th>\n",
       "    </tr>\n",
       "  </thead>\n",
       "  <tbody>\n",
       "    <tr>\n",
       "      <th>0</th>\n",
       "      <td>1121091</td>\n",
       "      <td>1178</td>\n",
       "      <td>144531</td>\n",
       "      <td>10</td>\n",
       "      <td>1194718</td>\n",
       "      <td>141</td>\n",
       "      <td>254.049996</td>\n",
       "      <td>28</td>\n",
       "      <td>14</td>\n",
       "      <td>42</td>\n",
       "      <td>...</td>\n",
       "      <td>1540</td>\n",
       "      <td>0.212644</td>\n",
       "      <td>6.048809</td>\n",
       "      <td>6.061799</td>\n",
       "      <td>0</td>\n",
       "      <td>1</td>\n",
       "      <td>1</td>\n",
       "      <td>0</td>\n",
       "      <td>0</td>\n",
       "      <td>0</td>\n",
       "    </tr>\n",
       "    <tr>\n",
       "      <th>1</th>\n",
       "      <td>1121092</td>\n",
       "      <td>1178</td>\n",
       "      <td>144531</td>\n",
       "      <td>10</td>\n",
       "      <td>637648</td>\n",
       "      <td>67</td>\n",
       "      <td>122.400000</td>\n",
       "      <td>13</td>\n",
       "      <td>5</td>\n",
       "      <td>18</td>\n",
       "      <td>...</td>\n",
       "      <td>565</td>\n",
       "      <td>0.191955</td>\n",
       "      <td>6.800000</td>\n",
       "      <td>4.616013</td>\n",
       "      <td>0</td>\n",
       "      <td>1</td>\n",
       "      <td>1</td>\n",
       "      <td>0</td>\n",
       "      <td>0</td>\n",
       "      <td>0</td>\n",
       "    </tr>\n",
       "    <tr>\n",
       "      <th>2</th>\n",
       "      <td>1121094</td>\n",
       "      <td>1178</td>\n",
       "      <td>144531</td>\n",
       "      <td>10</td>\n",
       "      <td>24362</td>\n",
       "      <td>0</td>\n",
       "      <td>0.000000</td>\n",
       "      <td>1</td>\n",
       "      <td>1</td>\n",
       "      <td>2</td>\n",
       "      <td>...</td>\n",
       "      <td>105</td>\n",
       "      <td>0.000000</td>\n",
       "      <td>0.000000</td>\n",
       "      <td>inf</td>\n",
       "      <td>0</td>\n",
       "      <td>1</td>\n",
       "      <td>1</td>\n",
       "      <td>0</td>\n",
       "      <td>0</td>\n",
       "      <td>0</td>\n",
       "    </tr>\n",
       "    <tr>\n",
       "      <th>3</th>\n",
       "      <td>1121095</td>\n",
       "      <td>1178</td>\n",
       "      <td>144531</td>\n",
       "      <td>10</td>\n",
       "      <td>459690</td>\n",
       "      <td>50</td>\n",
       "      <td>86.330001</td>\n",
       "      <td>5</td>\n",
       "      <td>2</td>\n",
       "      <td>7</td>\n",
       "      <td>...</td>\n",
       "      <td>225</td>\n",
       "      <td>0.187800</td>\n",
       "      <td>12.332857</td>\n",
       "      <td>2.606278</td>\n",
       "      <td>0</td>\n",
       "      <td>1</td>\n",
       "      <td>1</td>\n",
       "      <td>0</td>\n",
       "      <td>0</td>\n",
       "      <td>0</td>\n",
       "    </tr>\n",
       "    <tr>\n",
       "      <th>4</th>\n",
       "      <td>1121096</td>\n",
       "      <td>1178</td>\n",
       "      <td>144531</td>\n",
       "      <td>10</td>\n",
       "      <td>750060</td>\n",
       "      <td>86</td>\n",
       "      <td>161.909999</td>\n",
       "      <td>11</td>\n",
       "      <td>2</td>\n",
       "      <td>13</td>\n",
       "      <td>...</td>\n",
       "      <td>255</td>\n",
       "      <td>0.215863</td>\n",
       "      <td>12.454615</td>\n",
       "      <td>1.574949</td>\n",
       "      <td>0</td>\n",
       "      <td>1</td>\n",
       "      <td>1</td>\n",
       "      <td>0</td>\n",
       "      <td>0</td>\n",
       "      <td>0</td>\n",
       "    </tr>\n",
       "  </tbody>\n",
       "</table>\n",
       "<p>5 rows × 22 columns</p>\n",
       "</div>"
      ],
      "text/plain": [
       "     ad_id  xyzCampId  fbCampId  interest     impr  Clicks       Spent  conv  \\\n",
       "0  1121091       1178    144531        10  1194718     141  254.049996    28   \n",
       "1  1121092       1178    144531        10   637648      67  122.400000    13   \n",
       "2  1121094       1178    144531        10    24362       0    0.000000     1   \n",
       "3  1121095       1178    144531        10   459690      50   86.330001     5   \n",
       "4  1121096       1178    144531        10   750060      86  161.909999    11   \n",
       "\n",
       "   appConv  totConv    ...      totConVal       CPM  costPerCon      ROAS  \\\n",
       "0       14       42    ...           1540  0.212644    6.048809  6.061799   \n",
       "1        5       18    ...            565  0.191955    6.800000  4.616013   \n",
       "2        1        2    ...            105  0.000000    0.000000       inf   \n",
       "3        2        7    ...            225  0.187800   12.332857  2.606278   \n",
       "4        2       13    ...            255  0.215863   12.454615  1.574949   \n",
       "\n",
       "   gender_F  gender_M  age_30-34  age_35-39  age_40-44  age_45-49  \n",
       "0         0         1          1          0          0          0  \n",
       "1         0         1          1          0          0          0  \n",
       "2         0         1          1          0          0          0  \n",
       "3         0         1          1          0          0          0  \n",
       "4         0         1          1          0          0          0  \n",
       "\n",
       "[5 rows x 22 columns]"
      ]
     },
     "execution_count": 197,
     "metadata": {},
     "output_type": "execute_result"
    }
   ],
   "source": [
    "df.head()"
   ]
  },
  {
   "cell_type": "code",
   "execution_count": 198,
   "metadata": {},
   "outputs": [
    {
     "name": "stdout",
     "output_type": "stream",
     "text": [
      "<class 'pandas.core.frame.DataFrame'>\n",
      "RangeIndex: 625 entries, 0 to 624\n",
      "Data columns (total 22 columns):\n",
      "ad_id         625 non-null int64\n",
      "xyzCampId     625 non-null int64\n",
      "fbCampId      625 non-null int64\n",
      "interest      625 non-null int64\n",
      "impr          625 non-null int64\n",
      "Clicks        625 non-null int64\n",
      "Spent         625 non-null float64\n",
      "conv          625 non-null int64\n",
      "appConv       625 non-null int64\n",
      "totConv       625 non-null int64\n",
      "appConVal     625 non-null int64\n",
      "conVal        625 non-null int64\n",
      "totConVal     625 non-null int64\n",
      "CPM           625 non-null float64\n",
      "costPerCon    625 non-null float64\n",
      "ROAS          625 non-null float64\n",
      "gender_F      625 non-null int64\n",
      "gender_M      625 non-null int64\n",
      "age_30-34     625 non-null int64\n",
      "age_35-39     625 non-null int64\n",
      "age_40-44     625 non-null int64\n",
      "age_45-49     625 non-null int64\n",
      "dtypes: float64(4), int64(18)\n",
      "memory usage: 107.5 KB\n"
     ]
    }
   ],
   "source": [
    "df.info()"
   ]
  },
  {
   "cell_type": "code",
   "execution_count": 199,
   "metadata": {},
   "outputs": [
    {
     "data": {
      "text/plain": [
       "Index(['ad_id', 'xyzCampId', 'fbCampId', 'interest', 'impr', 'Clicks', 'Spent',\n",
       "       'conv', 'appConv', 'totConv', 'appConVal', 'conVal', 'totConVal', 'CPM',\n",
       "       'costPerCon', 'ROAS', 'gender_F', 'gender_M', 'age_30-34', 'age_35-39',\n",
       "       'age_40-44', 'age_45-49'],\n",
       "      dtype='object')"
      ]
     },
     "execution_count": 199,
     "metadata": {},
     "output_type": "execute_result"
    }
   ],
   "source": [
    "df.columns"
   ]
  },
  {
   "cell_type": "code",
   "execution_count": 200,
   "metadata": {},
   "outputs": [],
   "source": [
    "from sklearn.preprocessing import LabelEncoder,OneHotEncoder"
   ]
  },
  {
   "cell_type": "code",
   "execution_count": 201,
   "metadata": {},
   "outputs": [],
   "source": [
    "encoded=df[['ad_id', 'xyzCampId', 'fbCampId', 'interest', 'impr', 'Clicks', 'Spent',\n",
    "       'conv', 'appConv', 'totConv', 'appConVal', 'conVal', 'totConVal', 'CPM',\n",
    "       'costPerCon', 'ROAS', 'gender_F', 'gender_M', 'age_30-34', 'age_35-39',\n",
    "       'age_40-44', 'age_45-49']].apply(LabelEncoder().fit_transform)"
   ]
  },
  {
   "cell_type": "code",
   "execution_count": 202,
   "metadata": {},
   "outputs": [],
   "source": [
    "bigdata =pd.concat([encoded], axis=1)"
   ]
  },
  {
   "cell_type": "code",
   "execution_count": 203,
   "metadata": {},
   "outputs": [],
   "source": [
    "X=bigdata.loc[:,df.columns!='ROAS']"
   ]
  },
  {
   "cell_type": "code",
   "execution_count": 204,
   "metadata": {},
   "outputs": [
    {
     "data": {
      "text/plain": [
       "array(['ad_id', 'xyzCampId', 'fbCampId', 'interest', 'impr', 'Clicks',\n",
       "       'Spent', 'conv', 'appConv', 'totConv', 'appConVal', 'conVal',\n",
       "       'totConVal', 'CPM', 'costPerCon', 'gender_F', 'gender_M',\n",
       "       'age_30-34', 'age_35-39', 'age_40-44', 'age_45-49'], dtype=object)"
      ]
     },
     "execution_count": 204,
     "metadata": {},
     "output_type": "execute_result"
    }
   ],
   "source": [
    "X.columns.values"
   ]
  },
  {
   "cell_type": "code",
   "execution_count": 205,
   "metadata": {},
   "outputs": [
    {
     "name": "stdout",
     "output_type": "stream",
     "text": [
      "(625, 21)\n"
     ]
    }
   ],
   "source": [
    "print(X.shape)"
   ]
  },
  {
   "cell_type": "code",
   "execution_count": 206,
   "metadata": {},
   "outputs": [],
   "source": [
    "Y=bigdata.loc[:,df.columns=='ROAS']"
   ]
  },
  {
   "cell_type": "code",
   "execution_count": 207,
   "metadata": {},
   "outputs": [
    {
     "data": {
      "text/plain": [
       "array(['ROAS'], dtype=object)"
      ]
     },
     "execution_count": 207,
     "metadata": {},
     "output_type": "execute_result"
    }
   ],
   "source": [
    "Y.columns.values"
   ]
  },
  {
   "cell_type": "code",
   "execution_count": 208,
   "metadata": {},
   "outputs": [
    {
     "name": "stdout",
     "output_type": "stream",
     "text": [
      "(625, 1)\n"
     ]
    }
   ],
   "source": [
    "print(Y.shape)"
   ]
  },
  {
   "cell_type": "code",
   "execution_count": 209,
   "metadata": {},
   "outputs": [],
   "source": [
    "from sklearn.model_selection import train_test_split\n",
    "X_train,X_test,Y_train,Y_test=train_test_split(X,Y,test_size=0.2)\n",
    "from sklearn.model_selection import learning_curve\n"
   ]
  },
  {
   "cell_type": "code",
   "execution_count": 210,
   "metadata": {},
   "outputs": [
    {
     "data": {
      "text/plain": [
       "LinearRegression(copy_X=True, fit_intercept=True, n_jobs=None,\n",
       "         normalize=False)"
      ]
     },
     "execution_count": 210,
     "metadata": {},
     "output_type": "execute_result"
    }
   ],
   "source": [
    "from sklearn.linear_model import LinearRegression  \n",
    "regressor = LinearRegression()  \n",
    "regressor.fit(X_train, Y_train)"
   ]
  },
  {
   "cell_type": "code",
   "execution_count": 211,
   "metadata": {},
   "outputs": [
    {
     "data": {
      "text/plain": [
       "0.8263835708025757"
      ]
     },
     "execution_count": 211,
     "metadata": {},
     "output_type": "execute_result"
    }
   ],
   "source": [
    "regressor.score (X_train,Y_train)"
   ]
  },
  {
   "cell_type": "code",
   "execution_count": 212,
   "metadata": {},
   "outputs": [
    {
     "data": {
      "text/plain": [
       "ad_id         int32\n",
       "xyzCampId     int32\n",
       "fbCampId      int32\n",
       "interest      int32\n",
       "impr          int32\n",
       "Clicks        int32\n",
       "Spent         int32\n",
       "conv          int32\n",
       "appConv       int32\n",
       "totConv       int32\n",
       "appConVal     int32\n",
       "conVal        int32\n",
       "totConVal     int32\n",
       "CPM           int32\n",
       "costPerCon    int32\n",
       "ROAS          int32\n",
       "gender_F      int32\n",
       "gender_M      int32\n",
       "age_30-34     int32\n",
       "age_35-39     int32\n",
       "age_40-44     int32\n",
       "age_45-49     int32\n",
       "dtype: object"
      ]
     },
     "execution_count": 212,
     "metadata": {},
     "output_type": "execute_result"
    }
   ],
   "source": [
    "bigdata.dtypes"
   ]
  },
  {
   "cell_type": "code",
   "execution_count": 28,
   "metadata": {},
   "outputs": [
    {
     "name": "stdout",
     "output_type": "stream",
     "text": [
      "               ad_id  xyzCampId  fbCampId  interest      impr    Clicks  \\\n",
      "ad_id       1.000000        NaN  0.984347  0.503029  0.136800  0.231993   \n",
      "xyzCampId        NaN        NaN       NaN       NaN       NaN       NaN   \n",
      "fbCampId    0.984347        NaN  1.000000  0.572105  0.156097  0.234343   \n",
      "interest    0.503029        NaN  0.572105  1.000000 -0.043661 -0.074284   \n",
      "impr        0.136800        NaN  0.156097 -0.043661  1.000000  0.897627   \n",
      "Clicks      0.231993        NaN  0.234343 -0.074284  0.897627  1.000000   \n",
      "Spent       0.175548        NaN  0.178094 -0.098962  0.975289  0.922368   \n",
      "conv        0.001746        NaN  0.044918  0.006262  0.629135  0.652577   \n",
      "appConv    -0.079936        NaN -0.047216 -0.041930  0.497960  0.516957   \n",
      "totConv    -0.009229        NaN  0.032111 -0.003652  0.634921  0.652395   \n",
      "appConVal  -0.079936        NaN -0.047216 -0.041930  0.497960  0.516957   \n",
      "conVal      0.001746        NaN  0.044918  0.006262  0.629135  0.652577   \n",
      "totConVal  -0.033675        NaN  0.000345 -0.025239  0.584258  0.591020   \n",
      "CPM         0.314803        NaN  0.248103 -0.186525  0.356307  0.454244   \n",
      "costPerCon  0.214253        NaN  0.178042 -0.112258  0.532588  0.496610   \n",
      "ROAS       -0.190121        NaN -0.162886  0.045942 -0.235052 -0.239621   \n",
      "gender_F    0.688086        NaN  0.649420  0.063204  0.193657  0.317464   \n",
      "gender_M   -0.688086        NaN -0.649420 -0.063204 -0.193657 -0.317464   \n",
      "age_30-34  -0.356668        NaN -0.323238 -0.045076 -0.059976 -0.144129   \n",
      "age_35-39  -0.071489        NaN -0.083025 -0.004112 -0.059926 -0.091301   \n",
      "age_40-44   0.157567        NaN  0.145372  0.037398 -0.015075  0.012178   \n",
      "age_45-49   0.313197        NaN  0.299585  0.018025  0.140035  0.237852   \n",
      "\n",
      "               Spent      conv   appConv   totConv    ...      totConVal  \\\n",
      "ad_id       0.175548  0.001746 -0.079936 -0.009229    ...      -0.033675   \n",
      "xyzCampId        NaN       NaN       NaN       NaN    ...            NaN   \n",
      "fbCampId    0.178094  0.044918 -0.047216  0.032111    ...       0.000345   \n",
      "interest   -0.098962  0.006262 -0.041930 -0.003652    ...      -0.025239   \n",
      "impr        0.975289  0.629135  0.497960  0.634921    ...       0.584258   \n",
      "Clicks      0.922368  0.652577  0.516957  0.652395    ...       0.591020   \n",
      "Spent       1.000000  0.586580  0.461322  0.590987    ...       0.542615   \n",
      "conv        0.586580  1.000000  0.862853  0.986981    ...       0.883062   \n",
      "appConv     0.461322  0.862853  1.000000  0.918615    ...       0.957871   \n",
      "totConv     0.590987  0.986981  0.918615  1.000000    ...       0.943496   \n",
      "appConVal   0.461322  0.862853  1.000000  0.918615    ...       0.957871   \n",
      "conVal      0.586580  1.000000  0.862853  0.986981    ...       0.883062   \n",
      "totConVal   0.542615  0.883062  0.957871  0.943496    ...       1.000000   \n",
      "CPM         0.533505  0.025931 -0.005790  0.027988    ...       0.025913   \n",
      "costPerCon  0.616627 -0.116698 -0.200807 -0.141329    ...      -0.184719   \n",
      "ROAS       -0.302716  0.198733  0.414913  0.276679    ...       0.410938   \n",
      "gender_F    0.265156  0.098563  0.016707  0.091364    ...       0.064342   \n",
      "gender_M   -0.265156 -0.098563 -0.016707 -0.091364    ...      -0.064342   \n",
      "age_30-34  -0.159296  0.189642  0.176100  0.186604    ...       0.168806   \n",
      "age_35-39  -0.064741 -0.072095 -0.064258 -0.065247    ...      -0.051629   \n",
      "age_40-44   0.035375 -0.087221 -0.069762 -0.089301    ...      -0.083152   \n",
      "age_45-49   0.205935 -0.053403 -0.062963 -0.054917    ...      -0.054802   \n",
      "\n",
      "                 CPM  costPerCon      ROAS  gender_F  gender_M  age_30-34  \\\n",
      "ad_id       0.314803    0.214253 -0.190121  0.688086 -0.688086  -0.356668   \n",
      "xyzCampId        NaN         NaN       NaN       NaN       NaN        NaN   \n",
      "fbCampId    0.248103    0.178042 -0.162886  0.649420 -0.649420  -0.323238   \n",
      "interest   -0.186525   -0.112258  0.045942  0.063204 -0.063204  -0.045076   \n",
      "impr        0.356307    0.532588 -0.235052  0.193657 -0.193657  -0.059976   \n",
      "Clicks      0.454244    0.496610 -0.239621  0.317464 -0.317464  -0.144129   \n",
      "Spent       0.533505    0.616627 -0.302716  0.265156 -0.265156  -0.159296   \n",
      "conv        0.025931   -0.116698  0.198733  0.098563 -0.098563   0.189642   \n",
      "appConv    -0.005790   -0.200807  0.414913  0.016707 -0.016707   0.176100   \n",
      "totConv     0.027988   -0.141329  0.276679  0.091364 -0.091364   0.186604   \n",
      "appConVal  -0.005790   -0.200807  0.414913  0.016707 -0.016707   0.176100   \n",
      "conVal      0.025931   -0.116698  0.198733  0.098563 -0.098563   0.189642   \n",
      "totConVal   0.025913   -0.184719  0.410938  0.064342 -0.064342   0.168806   \n",
      "CPM         1.000000    0.654647 -0.444608  0.392379 -0.392379  -0.501670   \n",
      "costPerCon  0.654647    1.000000 -0.797984  0.221872 -0.221872  -0.373386   \n",
      "ROAS       -0.444608   -0.797984  1.000000 -0.165968  0.165968   0.284341   \n",
      "gender_F    0.392379    0.221872 -0.165968  1.000000 -1.000000   0.001645   \n",
      "gender_M   -0.392379   -0.221872  0.165968 -1.000000  1.000000  -0.001645   \n",
      "age_30-34  -0.501670   -0.373386  0.284341  0.001645 -0.001645   1.000000   \n",
      "age_35-39  -0.047899   -0.046785  0.021290 -0.060132  0.060132  -0.381821   \n",
      "age_40-44   0.218574    0.161151 -0.092998  0.024151 -0.024151  -0.351131   \n",
      "age_45-49   0.390900    0.303508 -0.245119  0.035192 -0.035192  -0.383519   \n",
      "\n",
      "            age_35-39  age_40-44  age_45-49  \n",
      "ad_id       -0.071489   0.157567   0.313197  \n",
      "xyzCampId         NaN        NaN        NaN  \n",
      "fbCampId    -0.083025   0.145372   0.299585  \n",
      "interest    -0.004112   0.037398   0.018025  \n",
      "impr        -0.059926  -0.015075   0.140035  \n",
      "Clicks      -0.091301   0.012178   0.237852  \n",
      "Spent       -0.064741   0.035375   0.205935  \n",
      "conv        -0.072095  -0.087221  -0.053403  \n",
      "appConv     -0.064258  -0.069762  -0.062963  \n",
      "totConv     -0.065247  -0.089301  -0.054917  \n",
      "appConVal   -0.064258  -0.069762  -0.062963  \n",
      "conVal      -0.072095  -0.087221  -0.053403  \n",
      "totConVal   -0.051629  -0.083152  -0.054802  \n",
      "CPM         -0.047899   0.218574   0.390900  \n",
      "costPerCon  -0.046785   0.161151   0.303508  \n",
      "ROAS         0.021290  -0.092998  -0.245119  \n",
      "gender_F    -0.060132   0.024151   0.035192  \n",
      "gender_M     0.060132  -0.024151  -0.035192  \n",
      "age_30-34   -0.381821  -0.351131  -0.383519  \n",
      "age_35-39    1.000000  -0.282813  -0.308899  \n",
      "age_40-44   -0.282813   1.000000  -0.284070  \n",
      "age_45-49   -0.308899  -0.284070   1.000000  \n",
      "\n",
      "[22 rows x 22 columns]\n"
     ]
    }
   ],
   "source": [
    "corr = pd.DataFrame(bigdata)\n",
    "datacorr=bigdata.corr()\n",
    "print(datacorr)"
   ]
  },
  {
   "cell_type": "code",
   "execution_count": 37,
   "metadata": {},
   "outputs": [
    {
     "data": {
      "text/plain": [
       "[('ad_id', 'fbCampId'),\n",
       " ('ad_id', 'interest'),\n",
       " ('ad_id', 'impr'),\n",
       " ('ad_id', 'Clicks'),\n",
       " ('ad_id', 'Spent'),\n",
       " ('ad_id', 'CPM'),\n",
       " ('ad_id', 'costPerCon'),\n",
       " ('ad_id', 'ROAS'),\n",
       " ('ad_id', 'gender_F'),\n",
       " ('ad_id', 'gender_M'),\n",
       " ('ad_id', 'age_30-34'),\n",
       " ('ad_id', 'age_40-44'),\n",
       " ('ad_id', 'age_45-49'),\n",
       " ('fbCampId', 'interest'),\n",
       " ('fbCampId', 'impr'),\n",
       " ('fbCampId', 'Clicks'),\n",
       " ('fbCampId', 'Spent'),\n",
       " ('fbCampId', 'CPM'),\n",
       " ('fbCampId', 'costPerCon'),\n",
       " ('fbCampId', 'ROAS'),\n",
       " ('fbCampId', 'gender_F'),\n",
       " ('fbCampId', 'gender_M'),\n",
       " ('fbCampId', 'age_30-34'),\n",
       " ('fbCampId', 'age_40-44'),\n",
       " ('fbCampId', 'age_45-49'),\n",
       " ('interest', 'CPM'),\n",
       " ('interest', 'costPerCon'),\n",
       " ('impr', 'Clicks'),\n",
       " ('impr', 'Spent'),\n",
       " ('impr', 'conv'),\n",
       " ('impr', 'appConv'),\n",
       " ('impr', 'totConv'),\n",
       " ('impr', 'appConVal'),\n",
       " ('impr', 'conVal'),\n",
       " ('impr', 'totConVal'),\n",
       " ('impr', 'CPM'),\n",
       " ('impr', 'costPerCon'),\n",
       " ('impr', 'ROAS'),\n",
       " ('impr', 'gender_F'),\n",
       " ('impr', 'gender_M'),\n",
       " ('impr', 'age_45-49'),\n",
       " ('Clicks', 'Spent'),\n",
       " ('Clicks', 'conv'),\n",
       " ('Clicks', 'appConv'),\n",
       " ('Clicks', 'totConv'),\n",
       " ('Clicks', 'appConVal'),\n",
       " ('Clicks', 'conVal'),\n",
       " ('Clicks', 'totConVal'),\n",
       " ('Clicks', 'CPM'),\n",
       " ('Clicks', 'costPerCon'),\n",
       " ('Clicks', 'ROAS'),\n",
       " ('Clicks', 'gender_F'),\n",
       " ('Clicks', 'gender_M'),\n",
       " ('Clicks', 'age_30-34'),\n",
       " ('Clicks', 'age_45-49'),\n",
       " ('Spent', 'conv'),\n",
       " ('Spent', 'appConv'),\n",
       " ('Spent', 'totConv'),\n",
       " ('Spent', 'appConVal'),\n",
       " ('Spent', 'conVal'),\n",
       " ('Spent', 'totConVal'),\n",
       " ('Spent', 'CPM'),\n",
       " ('Spent', 'costPerCon'),\n",
       " ('Spent', 'ROAS'),\n",
       " ('Spent', 'gender_F'),\n",
       " ('Spent', 'gender_M'),\n",
       " ('Spent', 'age_30-34'),\n",
       " ('Spent', 'age_45-49'),\n",
       " ('conv', 'appConv'),\n",
       " ('conv', 'totConv'),\n",
       " ('conv', 'appConVal'),\n",
       " ('conv', 'conVal'),\n",
       " ('conv', 'totConVal'),\n",
       " ('conv', 'costPerCon'),\n",
       " ('conv', 'ROAS'),\n",
       " ('conv', 'age_30-34'),\n",
       " ('appConv', 'totConv'),\n",
       " ('appConv', 'appConVal'),\n",
       " ('appConv', 'conVal'),\n",
       " ('appConv', 'totConVal'),\n",
       " ('appConv', 'costPerCon'),\n",
       " ('appConv', 'ROAS'),\n",
       " ('appConv', 'age_30-34'),\n",
       " ('totConv', 'appConVal'),\n",
       " ('totConv', 'conVal'),\n",
       " ('totConv', 'totConVal'),\n",
       " ('totConv', 'costPerCon'),\n",
       " ('totConv', 'ROAS'),\n",
       " ('totConv', 'age_30-34'),\n",
       " ('appConVal', 'conVal'),\n",
       " ('appConVal', 'totConVal'),\n",
       " ('appConVal', 'costPerCon'),\n",
       " ('appConVal', 'ROAS'),\n",
       " ('appConVal', 'age_30-34'),\n",
       " ('conVal', 'totConVal'),\n",
       " ('conVal', 'costPerCon'),\n",
       " ('conVal', 'ROAS'),\n",
       " ('conVal', 'age_30-34'),\n",
       " ('totConVal', 'costPerCon'),\n",
       " ('totConVal', 'ROAS'),\n",
       " ('totConVal', 'age_30-34'),\n",
       " ('CPM', 'costPerCon'),\n",
       " ('CPM', 'ROAS'),\n",
       " ('CPM', 'gender_F'),\n",
       " ('CPM', 'gender_M'),\n",
       " ('CPM', 'age_30-34'),\n",
       " ('CPM', 'age_40-44'),\n",
       " ('CPM', 'age_45-49'),\n",
       " ('costPerCon', 'ROAS'),\n",
       " ('costPerCon', 'gender_F'),\n",
       " ('costPerCon', 'gender_M'),\n",
       " ('costPerCon', 'age_30-34'),\n",
       " ('costPerCon', 'age_40-44'),\n",
       " ('costPerCon', 'age_45-49'),\n",
       " ('ROAS', 'gender_F'),\n",
       " ('ROAS', 'gender_M'),\n",
       " ('ROAS', 'age_30-34'),\n",
       " ('ROAS', 'age_45-49'),\n",
       " ('gender_F', 'gender_M'),\n",
       " ('age_30-34', 'age_35-39'),\n",
       " ('age_30-34', 'age_40-44'),\n",
       " ('age_30-34', 'age_45-49'),\n",
       " ('age_35-39', 'age_40-44'),\n",
       " ('age_35-39', 'age_45-49'),\n",
       " ('age_40-44', 'age_45-49')]"
      ]
     },
     "execution_count": 37,
     "metadata": {},
     "output_type": "execute_result"
    }
   ],
   "source": [
    "high_corr_var=np.where(corr_matrix>0.1)\n",
    "high_corr_var=[(corr_matrix.columns[x],corr_matrix.columns[y]) for x,y in zip(*high_corr_var) if x!=y and x<y]\n",
    "high_corr_var "
   ]
  },
  {
   "cell_type": "code",
   "execution_count": 225,
   "metadata": {},
   "outputs": [],
   "source": [
    "#par la correltion lineaire nous avons eu à enumerer les variables qui sont correlees a ROAS.\n",
    "#le costpercon n'est pas concerner par la segmentation mais il est une valeures ajoutee a la dataframe car en etant correle à ROAS \n",
    "#LORDQUE corr_matrix>0.5 costpercon et ROAS sont correlees \n",
    "#LORDQUE corr_matrix>0.1 gender_F,gender_M,age_30-34,age_45-49 et ROAS sont correlees\n",
    "#voila pourquoi nous sommes focalisees sur la dataframe de corr_matrix>0.1"
   ]
  },
  {
   "cell_type": "code",
   "execution_count": 227,
   "metadata": {},
   "outputs": [
    {
     "data": {
      "text/html": [
       "<div>\n",
       "<style scoped>\n",
       "    .dataframe tbody tr th:only-of-type {\n",
       "        vertical-align: middle;\n",
       "    }\n",
       "\n",
       "    .dataframe tbody tr th {\n",
       "        vertical-align: top;\n",
       "    }\n",
       "\n",
       "    .dataframe thead th {\n",
       "        text-align: right;\n",
       "    }\n",
       "</style>\n",
       "<table border=\"1\" class=\"dataframe\">\n",
       "  <thead>\n",
       "    <tr style=\"text-align: right;\">\n",
       "      <th></th>\n",
       "      <th>gender_M</th>\n",
       "      <th>gender_F</th>\n",
       "      <th>age_30-34</th>\n",
       "      <th>age_40-44</th>\n",
       "      <th>costPerCon</th>\n",
       "    </tr>\n",
       "  </thead>\n",
       "  <tbody>\n",
       "    <tr>\n",
       "      <th>0</th>\n",
       "      <td>1</td>\n",
       "      <td>0</td>\n",
       "      <td>1</td>\n",
       "      <td>0</td>\n",
       "      <td>113</td>\n",
       "    </tr>\n",
       "    <tr>\n",
       "      <th>1</th>\n",
       "      <td>1</td>\n",
       "      <td>0</td>\n",
       "      <td>1</td>\n",
       "      <td>0</td>\n",
       "      <td>133</td>\n",
       "    </tr>\n",
       "    <tr>\n",
       "      <th>2</th>\n",
       "      <td>1</td>\n",
       "      <td>0</td>\n",
       "      <td>1</td>\n",
       "      <td>0</td>\n",
       "      <td>0</td>\n",
       "    </tr>\n",
       "    <tr>\n",
       "      <th>3</th>\n",
       "      <td>1</td>\n",
       "      <td>0</td>\n",
       "      <td>1</td>\n",
       "      <td>0</td>\n",
       "      <td>268</td>\n",
       "    </tr>\n",
       "    <tr>\n",
       "      <th>4</th>\n",
       "      <td>1</td>\n",
       "      <td>0</td>\n",
       "      <td>1</td>\n",
       "      <td>0</td>\n",
       "      <td>273</td>\n",
       "    </tr>\n",
       "  </tbody>\n",
       "</table>\n",
       "</div>"
      ],
      "text/plain": [
       "   gender_M  gender_F  age_30-34  age_40-44  costPerCon\n",
       "0         1         0          1          0         113\n",
       "1         1         0          1          0         133\n",
       "2         1         0          1          0           0\n",
       "3         1         0          1          0         268\n",
       "4         1         0          1          0         273"
      ]
     },
     "execution_count": 227,
     "metadata": {},
     "output_type": "execute_result"
    }
   ],
   "source": [
    "data=bigdata[['gender_M','gender_F','age_30-34','age_40-44','costPerCon']].drop_duplicates()\n",
    "data.head()"
   ]
  },
  {
   "cell_type": "code",
   "execution_count": 228,
   "metadata": {},
   "outputs": [
    {
     "data": {
      "text/plain": [
       "(616, 5)"
      ]
     },
     "execution_count": 228,
     "metadata": {},
     "output_type": "execute_result"
    }
   ],
   "source": [
    "data.shape"
   ]
  },
  {
   "cell_type": "code",
   "execution_count": 229,
   "metadata": {},
   "outputs": [
    {
     "name": "stdout",
     "output_type": "stream",
     "text": [
      "<class 'pandas.core.frame.DataFrame'>\n",
      "Int64Index: 616 entries, 0 to 624\n",
      "Data columns (total 5 columns):\n",
      "gender_M      616 non-null int32\n",
      "gender_F      616 non-null int32\n",
      "age_30-34     616 non-null int32\n",
      "age_40-44     616 non-null int32\n",
      "costPerCon    616 non-null int32\n",
      "dtypes: int32(5)\n",
      "memory usage: 16.8 KB\n"
     ]
    }
   ],
   "source": [
    "data.info()"
   ]
  },
  {
   "cell_type": "code",
   "execution_count": 230,
   "metadata": {},
   "outputs": [
    {
     "data": {
      "text/plain": [
       "(616, 5)"
      ]
     },
     "execution_count": 230,
     "metadata": {},
     "output_type": "execute_result"
    }
   ],
   "source": [
    "data.shape"
   ]
  },
  {
   "cell_type": "code",
   "execution_count": 231,
   "metadata": {},
   "outputs": [],
   "source": [
    "#SEGMENTATION DES VARIABLES DE data en utilisant Kmean cluster"
   ]
  },
  {
   "cell_type": "code",
   "execution_count": 216,
   "metadata": {},
   "outputs": [],
   "source": [
    "from sklearn.cluster import KMeans"
   ]
  },
  {
   "cell_type": "code",
   "execution_count": 232,
   "metadata": {},
   "outputs": [],
   "source": [
    "#identification du nombre de cluster important pour la segmentation"
   ]
  },
  {
   "cell_type": "code",
   "execution_count": 217,
   "metadata": {},
   "outputs": [
    {
     "data": {
      "image/png": "[encoded data removed]",
      "text/plain": [
       "<Figure size 432x288 with 1 Axes>"
      ]
     },
     "metadata": {
      "needs_background": "light"
     },
     "output_type": "display_data"
    }
   ],
   "source": [
    "wcss = []\n",
    "for i in range(1,11):\n",
    "    km=KMeans(n_clusters=i,init='k-means++', max_iter=300, n_init=10, random_state=0)\n",
    "    km.fit(data)\n",
    "    wcss.append(km.inertia_)\n",
    "plt.plot(range(1,11),wcss)\n",
    "plt.title('Elbow Method')\n",
    "plt.xlabel('Number of clusters')\n",
    "plt.ylabel('wcss')\n",
    "plt.show()"
   ]
  },
  {
   "cell_type": "code",
   "execution_count": 233,
   "metadata": {},
   "outputs": [],
   "source": [
    "#la repartition des segments dans chaque cluster"
   ]
  },
  {
   "cell_type": "code",
   "execution_count": 235,
   "metadata": {},
   "outputs": [
    {
     "data": {
      "text/plain": [
       "0    156\n",
       "3    154\n",
       "2    153\n",
       "1    153\n",
       "Name: cluster, dtype: int64"
      ]
     },
     "execution_count": 235,
     "metadata": {},
     "output_type": "execute_result"
    }
   ],
   "source": [
    "cluster = KMeans(n_clusters=4)\n",
    "data['cluster'] = cluster.fit_predict(data)\n",
    "data['cluster'].value_counts()"
   ]
  },
  {
   "cell_type": "code",
   "execution_count": 264,
   "metadata": {},
   "outputs": [],
   "source": [
    "#nous trouvons que la meilleure repartition ici est le 0 cluster cependant nous allons verifier \n",
    "#la clustering ou segmentation graphique par liner dimentionality reduction\n",
    "#VERIFIONS"
   ]
  },
  {
   "cell_type": "code",
   "execution_count": 236,
   "metadata": {},
   "outputs": [],
   "source": [
    "from sklearn.decomposition import PCA"
   ]
  },
  {
   "cell_type": "code",
   "execution_count": 237,
   "metadata": {},
   "outputs": [],
   "source": [
    "pca = PCA(n_components=2)\n",
    "data['data'] = pca.fit_transform(data)[:,0]\n",
    "data['ROAS'] = pca.fit_transform(data)[:,1]\n",
    "data = data.reset_index(drop=True)"
   ]
  },
  {
   "cell_type": "code",
   "execution_count": 238,
   "metadata": {},
   "outputs": [
    {
     "data": {
      "image/png": "[encoded data removed]",
      "text/plain": [
       "<Figure size 1152x576 with 1 Axes>"
      ]
     },
     "metadata": {
      "needs_background": "light"
     },
     "output_type": "display_data"
    }
   ],
   "source": [
    "plt.figure(figsize=(16,8))\n",
    "g = sns.scatterplot('data', 'ROAS', hue='cluster', data=data)\n",
    "#g.set(ylim=(-500,2000))\n",
    "#g.set(xlim=(0,6000))"
   ]
  },
  {
   "cell_type": "code",
   "execution_count": 266,
   "metadata": {},
   "outputs": [],
   "source": [
    "#nous constatons que le cluster3 est le meilleur segment d'identification de notre cible \n",
    "#POURTANT AVEC LA REPARTITION ON AVAIT 0 COMME MEILLEUR CLUSTER POUR LE CIBLAGE\n",
    "#ENCORE VERIFIONS AVEC LES MOYENNES PAR GROUPBY"
   ]
  },
  {
   "cell_type": "code",
   "execution_count": 239,
   "metadata": {},
   "outputs": [],
   "source": [
    "cluster_0 = data.loc[data['cluster']==0]\n",
    "cluster_1 = data.loc[data['cluster']==1]\n",
    "cluster_2 = data.loc[data['cluster']==2]\n",
    "cluster_3 = data.loc[data['cluster']==3]"
   ]
  },
  {
   "cell_type": "code",
   "execution_count": 240,
   "metadata": {},
   "outputs": [],
   "source": [
    "data = data.groupby('cluster').mean()"
   ]
  },
  {
   "cell_type": "code",
   "execution_count": 241,
   "metadata": {},
   "outputs": [
    {
     "data": {
      "text/html": [
       "<div>\n",
       "<style scoped>\n",
       "    .dataframe tbody tr th:only-of-type {\n",
       "        vertical-align: middle;\n",
       "    }\n",
       "\n",
       "    .dataframe tbody tr th {\n",
       "        vertical-align: top;\n",
       "    }\n",
       "\n",
       "    .dataframe thead th {\n",
       "        text-align: right;\n",
       "    }\n",
       "</style>\n",
       "<table border=\"1\" class=\"dataframe\">\n",
       "  <thead>\n",
       "    <tr style=\"text-align: right;\">\n",
       "      <th></th>\n",
       "      <th>gender_M</th>\n",
       "      <th>gender_F</th>\n",
       "      <th>age_30-34</th>\n",
       "      <th>age_40-44</th>\n",
       "      <th>costPerCon</th>\n",
       "      <th>data</th>\n",
       "      <th>ROAS</th>\n",
       "    </tr>\n",
       "    <tr>\n",
       "      <th>cluster</th>\n",
       "      <th></th>\n",
       "      <th></th>\n",
       "      <th></th>\n",
       "      <th></th>\n",
       "      <th></th>\n",
       "      <th></th>\n",
       "      <th></th>\n",
       "    </tr>\n",
       "  </thead>\n",
       "  <tbody>\n",
       "    <tr>\n",
       "      <th>0</th>\n",
       "      <td>0.416667</td>\n",
       "      <td>0.583333</td>\n",
       "      <td>0.128205</td>\n",
       "      <td>0.307692</td>\n",
       "      <td>534.480769</td>\n",
       "      <td>229.979077</td>\n",
       "      <td>-0.925987</td>\n",
       "    </tr>\n",
       "    <tr>\n",
       "      <th>1</th>\n",
       "      <td>0.575163</td>\n",
       "      <td>0.424837</td>\n",
       "      <td>0.359477</td>\n",
       "      <td>0.156863</td>\n",
       "      <td>226.000000</td>\n",
       "      <td>-78.503415</td>\n",
       "      <td>-0.689569</td>\n",
       "    </tr>\n",
       "    <tr>\n",
       "      <th>2</th>\n",
       "      <td>0.712418</td>\n",
       "      <td>0.287582</td>\n",
       "      <td>0.575163</td>\n",
       "      <td>0.137255</td>\n",
       "      <td>73.039216</td>\n",
       "      <td>-231.466450</td>\n",
       "      <td>-0.068447</td>\n",
       "    </tr>\n",
       "    <tr>\n",
       "      <th>3</th>\n",
       "      <td>0.532468</td>\n",
       "      <td>0.467532</td>\n",
       "      <td>0.201299</td>\n",
       "      <td>0.227273</td>\n",
       "      <td>379.500000</td>\n",
       "      <td>74.991255</td>\n",
       "      <td>1.691106</td>\n",
       "    </tr>\n",
       "  </tbody>\n",
       "</table>\n",
       "</div>"
      ],
      "text/plain": [
       "         gender_M  gender_F  age_30-34  age_40-44  costPerCon        data  \\\n",
       "cluster                                                                     \n",
       "0        0.416667  0.583333   0.128205   0.307692  534.480769  229.979077   \n",
       "1        0.575163  0.424837   0.359477   0.156863  226.000000  -78.503415   \n",
       "2        0.712418  0.287582   0.575163   0.137255   73.039216 -231.466450   \n",
       "3        0.532468  0.467532   0.201299   0.227273  379.500000   74.991255   \n",
       "\n",
       "             ROAS  \n",
       "cluster            \n",
       "0       -0.925987  \n",
       "1       -0.689569  \n",
       "2       -0.068447  \n",
       "3        1.691106  "
      ]
     },
     "execution_count": 241,
     "metadata": {},
     "output_type": "execute_result"
    }
   ],
   "source": [
    "data"
   ]
  },
  {
   "cell_type": "code",
   "execution_count": 267,
   "metadata": {},
   "outputs": [],
   "source": [
    "#NOUS CONSTATONS QUE LA VALEUR MOYENNE DE ROAS EST MAXIMAL DONC CLUSTER VERIFIER D'OU NOTRE SEGMENT EST CLUSTER 3\n",
    "#ROAS qui etant comme un chiffre d'affaire de chaque entreprise qui investit chez facebook pour son marketing, cependant nous avonS la moyenne de ROAS=1,69 d'ou un chiffre d'affaire croissant dans le cluster 3, donc la variable qui permet ici d'augmenter ROAS  est gender_M avec une moyenne superieure a touteS autres variables d'ou gender= 0.53 dans le cluster 3\n",
    "#notre cible ici est alors gender_M"
   ]
  },
  {
   "cell_type": "code",
   "execution_count": 256,
   "metadata": {},
   "outputs": [],
   "source": [
    "#nous allons encore verifier par groupby la moyenne la plus eleve ou importante qui permettra d'identifier notre cible\n",
    "#VERIFICATION"
   ]
  },
  {
   "cell_type": "code",
   "execution_count": 151,
   "metadata": {},
   "outputs": [],
   "source": [
    "cluster_agg = data.groupby('cluster').agg({'gender_M':['min', 'mean','max'],\n",
    "                                                'gender_F':['min', 'mean', 'max'],\n",
    "                                                'age_30-34':['min', 'mean', 'max'],\n",
    "                                                  'age_40-44':['min', 'mean', 'max']})"
   ]
  },
  {
   "cell_type": "code",
   "execution_count": 152,
   "metadata": {},
   "outputs": [
    {
     "data": {
      "text/html": [
       "<div>\n",
       "<style scoped>\n",
       "    .dataframe tbody tr th:only-of-type {\n",
       "        vertical-align: middle;\n",
       "    }\n",
       "\n",
       "    .dataframe tbody tr th {\n",
       "        vertical-align: top;\n",
       "    }\n",
       "\n",
       "    .dataframe thead tr th {\n",
       "        text-align: left;\n",
       "    }\n",
       "\n",
       "    .dataframe thead tr:last-of-type th {\n",
       "        text-align: right;\n",
       "    }\n",
       "</style>\n",
       "<table border=\"1\" class=\"dataframe\">\n",
       "  <thead>\n",
       "    <tr>\n",
       "      <th></th>\n",
       "      <th colspan=\"3\" halign=\"left\">gender_M</th>\n",
       "      <th colspan=\"3\" halign=\"left\">gender_F</th>\n",
       "      <th colspan=\"3\" halign=\"left\">age_30-34</th>\n",
       "      <th colspan=\"3\" halign=\"left\">age_40-44</th>\n",
       "    </tr>\n",
       "    <tr>\n",
       "      <th></th>\n",
       "      <th>min</th>\n",
       "      <th>mean</th>\n",
       "      <th>max</th>\n",
       "      <th>min</th>\n",
       "      <th>mean</th>\n",
       "      <th>max</th>\n",
       "      <th>min</th>\n",
       "      <th>mean</th>\n",
       "      <th>max</th>\n",
       "      <th>min</th>\n",
       "      <th>mean</th>\n",
       "      <th>max</th>\n",
       "    </tr>\n",
       "    <tr>\n",
       "      <th>cluster</th>\n",
       "      <th></th>\n",
       "      <th></th>\n",
       "      <th></th>\n",
       "      <th></th>\n",
       "      <th></th>\n",
       "      <th></th>\n",
       "      <th></th>\n",
       "      <th></th>\n",
       "      <th></th>\n",
       "      <th></th>\n",
       "      <th></th>\n",
       "      <th></th>\n",
       "    </tr>\n",
       "  </thead>\n",
       "  <tbody>\n",
       "    <tr>\n",
       "      <th>0</th>\n",
       "      <td>0.575163</td>\n",
       "      <td>0.575163</td>\n",
       "      <td>0.575163</td>\n",
       "      <td>0.424837</td>\n",
       "      <td>0.424837</td>\n",
       "      <td>0.424837</td>\n",
       "      <td>0.359477</td>\n",
       "      <td>0.359477</td>\n",
       "      <td>0.359477</td>\n",
       "      <td>0.156863</td>\n",
       "      <td>0.156863</td>\n",
       "      <td>0.156863</td>\n",
       "    </tr>\n",
       "    <tr>\n",
       "      <th>1</th>\n",
       "      <td>0.416667</td>\n",
       "      <td>0.416667</td>\n",
       "      <td>0.416667</td>\n",
       "      <td>0.583333</td>\n",
       "      <td>0.583333</td>\n",
       "      <td>0.583333</td>\n",
       "      <td>0.128205</td>\n",
       "      <td>0.128205</td>\n",
       "      <td>0.128205</td>\n",
       "      <td>0.307692</td>\n",
       "      <td>0.307692</td>\n",
       "      <td>0.307692</td>\n",
       "    </tr>\n",
       "    <tr>\n",
       "      <th>2</th>\n",
       "      <td>0.532468</td>\n",
       "      <td>0.532468</td>\n",
       "      <td>0.532468</td>\n",
       "      <td>0.467532</td>\n",
       "      <td>0.467532</td>\n",
       "      <td>0.467532</td>\n",
       "      <td>0.201299</td>\n",
       "      <td>0.201299</td>\n",
       "      <td>0.201299</td>\n",
       "      <td>0.227273</td>\n",
       "      <td>0.227273</td>\n",
       "      <td>0.227273</td>\n",
       "    </tr>\n",
       "    <tr>\n",
       "      <th>3</th>\n",
       "      <td>0.712418</td>\n",
       "      <td>0.712418</td>\n",
       "      <td>0.712418</td>\n",
       "      <td>0.287582</td>\n",
       "      <td>0.287582</td>\n",
       "      <td>0.287582</td>\n",
       "      <td>0.575163</td>\n",
       "      <td>0.575163</td>\n",
       "      <td>0.575163</td>\n",
       "      <td>0.137255</td>\n",
       "      <td>0.137255</td>\n",
       "      <td>0.137255</td>\n",
       "    </tr>\n",
       "  </tbody>\n",
       "</table>\n",
       "</div>"
      ],
      "text/plain": [
       "         gender_M                      gender_F                     age_30-34  \\\n",
       "              min      mean       max       min      mean       max       min   \n",
       "cluster                                                                         \n",
       "0        0.575163  0.575163  0.575163  0.424837  0.424837  0.424837  0.359477   \n",
       "1        0.416667  0.416667  0.416667  0.583333  0.583333  0.583333  0.128205   \n",
       "2        0.532468  0.532468  0.532468  0.467532  0.467532  0.467532  0.201299   \n",
       "3        0.712418  0.712418  0.712418  0.287582  0.287582  0.287582  0.575163   \n",
       "\n",
       "                            age_40-44                      \n",
       "             mean       max       min      mean       max  \n",
       "cluster                                                    \n",
       "0        0.359477  0.359477  0.156863  0.156863  0.156863  \n",
       "1        0.128205  0.128205  0.307692  0.307692  0.307692  \n",
       "2        0.201299  0.201299  0.227273  0.227273  0.227273  \n",
       "3        0.575163  0.575163  0.137255  0.137255  0.137255  "
      ]
     },
     "execution_count": 152,
     "metadata": {},
     "output_type": "execute_result"
    }
   ],
   "source": [
    "cluster_agg"
   ]
  },
  {
   "cell_type": "code",
   "execution_count": 268,
   "metadata": {},
   "outputs": [],
   "source": [
    "#NOUS AVONS REMARQUE QUE LA MOYENNE EST ENCORE PLUS ELEVEE DANS LE CLUSTER 3 AVEC UN CIBLE gender_M\n",
    "#DONC VERIFIEE\n",
    "#CEPENDANT SI ON DOIT INTERPRETER POUR L'AGE  CEPENDANT l'age_30-34 PERMET DE CROITRE ROAS vis a vis des autres ages\n",
    "#car moyenne de age_30-34 est 0.575163 superieur a celui de age_40-44"
   ]
  },
  {
   "cell_type": "code",
   "execution_count": 269,
   "metadata": {},
   "outputs": [],
   "source": [
    "#CONCLUSION : NOTRE CIBLE EST DONC gender_M ET age_30-34"
   ]
  },
  {
   "cell_type": "code",
   "execution_count": 258,
   "metadata": {},
   "outputs": [],
   "source": [
    "#METHODES rfm(RECENCY FREQUENCE MONETARY )"
   ]
  },
  {
   "cell_type": "code",
   "execution_count": 246,
   "metadata": {},
   "outputs": [],
   "source": [
    "rfm_table = data.groupby('data').agg({ 'data':lambda x: x.nunique(),\n",
    "                                        'ROAS': 'sum'})"
   ]
  },
  {
   "cell_type": "code",
   "execution_count": 247,
   "metadata": {},
   "outputs": [
    {
     "data": {
      "text/html": [
       "<div>\n",
       "<style scoped>\n",
       "    .dataframe tbody tr th:only-of-type {\n",
       "        vertical-align: middle;\n",
       "    }\n",
       "\n",
       "    .dataframe tbody tr th {\n",
       "        vertical-align: top;\n",
       "    }\n",
       "\n",
       "    .dataframe thead th {\n",
       "        text-align: right;\n",
       "    }\n",
       "</style>\n",
       "<table border=\"1\" class=\"dataframe\">\n",
       "  <thead>\n",
       "    <tr style=\"text-align: right;\">\n",
       "      <th></th>\n",
       "      <th>data</th>\n",
       "      <th>ROAS</th>\n",
       "    </tr>\n",
       "    <tr>\n",
       "      <th>data</th>\n",
       "      <th></th>\n",
       "      <th></th>\n",
       "    </tr>\n",
       "  </thead>\n",
       "  <tbody>\n",
       "    <tr>\n",
       "      <th>-231.466450</th>\n",
       "      <td>1.0</td>\n",
       "      <td>-0.068447</td>\n",
       "    </tr>\n",
       "    <tr>\n",
       "      <th>-78.503415</th>\n",
       "      <td>1.0</td>\n",
       "      <td>-0.689569</td>\n",
       "    </tr>\n",
       "    <tr>\n",
       "      <th>74.991255</th>\n",
       "      <td>1.0</td>\n",
       "      <td>1.691106</td>\n",
       "    </tr>\n",
       "    <tr>\n",
       "      <th>229.979077</th>\n",
       "      <td>1.0</td>\n",
       "      <td>-0.925987</td>\n",
       "    </tr>\n",
       "  </tbody>\n",
       "</table>\n",
       "</div>"
      ],
      "text/plain": [
       "             data      ROAS\n",
       "data                       \n",
       "-231.466450   1.0 -0.068447\n",
       "-78.503415    1.0 -0.689569\n",
       " 74.991255    1.0  1.691106\n",
       " 229.979077   1.0 -0.925987"
      ]
     },
     "execution_count": 247,
     "metadata": {},
     "output_type": "execute_result"
    }
   ],
   "source": [
    "rfm_table"
   ]
  },
  {
   "cell_type": "code",
   "execution_count": 249,
   "metadata": {},
   "outputs": [
    {
     "data": {
      "text/html": [
       "<div>\n",
       "<style scoped>\n",
       "    .dataframe tbody tr th:only-of-type {\n",
       "        vertical-align: middle;\n",
       "    }\n",
       "\n",
       "    .dataframe tbody tr th {\n",
       "        vertical-align: top;\n",
       "    }\n",
       "\n",
       "    .dataframe thead th {\n",
       "        text-align: right;\n",
       "    }\n",
       "</style>\n",
       "<table border=\"1\" class=\"dataframe\">\n",
       "  <thead>\n",
       "    <tr style=\"text-align: right;\">\n",
       "      <th></th>\n",
       "      <th>recency</th>\n",
       "      <th>frequency</th>\n",
       "    </tr>\n",
       "    <tr>\n",
       "      <th>data</th>\n",
       "      <th></th>\n",
       "      <th></th>\n",
       "    </tr>\n",
       "  </thead>\n",
       "  <tbody>\n",
       "    <tr>\n",
       "      <th>-231.466450</th>\n",
       "      <td>1.0</td>\n",
       "      <td>-0.068447</td>\n",
       "    </tr>\n",
       "    <tr>\n",
       "      <th>-78.503415</th>\n",
       "      <td>1.0</td>\n",
       "      <td>-0.689569</td>\n",
       "    </tr>\n",
       "    <tr>\n",
       "      <th>74.991255</th>\n",
       "      <td>1.0</td>\n",
       "      <td>1.691106</td>\n",
       "    </tr>\n",
       "    <tr>\n",
       "      <th>229.979077</th>\n",
       "      <td>1.0</td>\n",
       "      <td>-0.925987</td>\n",
       "    </tr>\n",
       "  </tbody>\n",
       "</table>\n",
       "</div>"
      ],
      "text/plain": [
       "             recency  frequency\n",
       "data                           \n",
       "-231.466450      1.0  -0.068447\n",
       "-78.503415       1.0  -0.689569\n",
       " 74.991255       1.0   1.691106\n",
       " 229.979077      1.0  -0.925987"
      ]
     },
     "execution_count": 249,
     "metadata": {},
     "output_type": "execute_result"
    }
   ],
   "source": [
    "rfm_table.rename(columns ={ 'data':'recency',\n",
    "                            'ROAS' : 'frequency'}, inplace=True)\n",
    "rfm_table.head()"
   ]
  },
  {
   "cell_type": "code",
   "execution_count": 250,
   "metadata": {},
   "outputs": [],
   "source": [
    "cols = ['recency', 'frequency']\n",
    "rfm_table = rfm_table[cols]"
   ]
  },
  {
   "cell_type": "code",
   "execution_count": 251,
   "metadata": {},
   "outputs": [],
   "source": [
    "quantiles = rfm_table.quantile(q=[0.25,0.5,0.75])\n",
    "quantiles = quantiles.to_dict()"
   ]
  },
  {
   "cell_type": "code",
   "execution_count": 261,
   "metadata": {},
   "outputs": [],
   "source": [
    "def RScore(x,p,d):\n",
    "    if x <= d[p][0.25]:\n",
    "        return 1\n",
    "    elif x <= d[p][0.50]:\n",
    "        return 2\n",
    "    elif x <= d[p][0.75]: \n",
    "        return 3\n",
    "    else:\n",
    "        return 4\n",
    "    \n",
    "def FMScore(x,p,d):\n",
    "    if x <= d[p][0.25]:\n",
    "        return 4\n",
    "    elif x <= d[p][0.50]:\n",
    "        return 3\n",
    "    elif x <= d[p][0.75]: \n",
    "        return 2\n",
    "    else:\n",
    "        return 1"
   ]
  },
  {
   "cell_type": "code",
   "execution_count": 254,
   "metadata": {},
   "outputs": [
    {
     "data": {
      "text/html": [
       "<div>\n",
       "<style scoped>\n",
       "    .dataframe tbody tr th:only-of-type {\n",
       "        vertical-align: middle;\n",
       "    }\n",
       "\n",
       "    .dataframe tbody tr th {\n",
       "        vertical-align: top;\n",
       "    }\n",
       "\n",
       "    .dataframe thead th {\n",
       "        text-align: right;\n",
       "    }\n",
       "</style>\n",
       "<table border=\"1\" class=\"dataframe\">\n",
       "  <thead>\n",
       "    <tr style=\"text-align: right;\">\n",
       "      <th></th>\n",
       "      <th>recency</th>\n",
       "      <th>frequency</th>\n",
       "      <th>r_quartile</th>\n",
       "      <th>f_quartile</th>\n",
       "    </tr>\n",
       "    <tr>\n",
       "      <th>data</th>\n",
       "      <th></th>\n",
       "      <th></th>\n",
       "      <th></th>\n",
       "      <th></th>\n",
       "    </tr>\n",
       "  </thead>\n",
       "  <tbody>\n",
       "    <tr>\n",
       "      <th>-231.466450</th>\n",
       "      <td>1.0</td>\n",
       "      <td>-0.068447</td>\n",
       "      <td>1</td>\n",
       "      <td>2</td>\n",
       "    </tr>\n",
       "    <tr>\n",
       "      <th>-78.503415</th>\n",
       "      <td>1.0</td>\n",
       "      <td>-0.689569</td>\n",
       "      <td>1</td>\n",
       "      <td>3</td>\n",
       "    </tr>\n",
       "    <tr>\n",
       "      <th>74.991255</th>\n",
       "      <td>1.0</td>\n",
       "      <td>1.691106</td>\n",
       "      <td>1</td>\n",
       "      <td>1</td>\n",
       "    </tr>\n",
       "    <tr>\n",
       "      <th>229.979077</th>\n",
       "      <td>1.0</td>\n",
       "      <td>-0.925987</td>\n",
       "      <td>1</td>\n",
       "      <td>4</td>\n",
       "    </tr>\n",
       "  </tbody>\n",
       "</table>\n",
       "</div>"
      ],
      "text/plain": [
       "             recency  frequency  r_quartile  f_quartile\n",
       "data                                                   \n",
       "-231.466450      1.0  -0.068447           1           2\n",
       "-78.503415       1.0  -0.689569           1           3\n",
       " 74.991255       1.0   1.691106           1           1\n",
       " 229.979077      1.0  -0.925987           1           4"
      ]
     },
     "execution_count": 254,
     "metadata": {},
     "output_type": "execute_result"
    }
   ],
   "source": [
    "segmented_rfm = rfm_table= rfm_table\n",
    "segmented_rfm['r_quartile'] = segmented_rfm['recency'].apply(RScore, args=('recency',quantiles,))\n",
    "segmented_rfm['f_quartile'] = segmented_rfm['frequency'].apply(FMScore, args=('frequency',quantiles,))\n",
    "segmented_rfm.head()"
   ]
  },
  {
   "cell_type": "code",
   "execution_count": null,
   "metadata": {},
   "outputs": [],
   "source": []
  }
 ],
 "metadata": {
  "kernelspec": {
   "display_name": "Python 3",
   "language": "python",
   "name": "python3"
  }
 },
 "nbformat": 4,
 "nbformat_minor": 2
}
